{
 "cells": [
  {
   "cell_type": "code",
   "execution_count": 1,
   "metadata": {},
   "outputs": [],
   "source": [
    "import numpy as np\n",
    "import pandas as pd\n",
    "from expybox import ExpyBox\n",
    "\n",
    "from sklearn.ensemble import RandomForestClassifier\n",
    "from sklearn.model_selection import cross_val_score"
   ]
  },
  {
   "cell_type": "code",
   "execution_count": 2,
   "metadata": {},
   "outputs": [],
   "source": [
    "train_df = pd.read_csv('data/titanic.csv')"
   ]
  },
  {
   "cell_type": "code",
   "execution_count": 3,
   "metadata": {},
   "outputs": [
    {
     "data": {
      "text/html": [
       "<div>\n",
       "<style scoped>\n",
       "    .dataframe tbody tr th:only-of-type {\n",
       "        vertical-align: middle;\n",
       "    }\n",
       "\n",
       "    .dataframe tbody tr th {\n",
       "        vertical-align: top;\n",
       "    }\n",
       "\n",
       "    .dataframe thead th {\n",
       "        text-align: right;\n",
       "    }\n",
       "</style>\n",
       "<table border=\"1\" class=\"dataframe\">\n",
       "  <thead>\n",
       "    <tr style=\"text-align: right;\">\n",
       "      <th></th>\n",
       "      <th>Survived</th>\n",
       "      <th>Pclass</th>\n",
       "      <th>Sex</th>\n",
       "      <th>Age</th>\n",
       "      <th>SibSp</th>\n",
       "      <th>Parch</th>\n",
       "      <th>Fare</th>\n",
       "      <th>Embarked</th>\n",
       "      <th>Title</th>\n",
       "    </tr>\n",
       "  </thead>\n",
       "  <tbody>\n",
       "    <tr>\n",
       "      <th>0</th>\n",
       "      <td>0</td>\n",
       "      <td>3</td>\n",
       "      <td>0</td>\n",
       "      <td>22</td>\n",
       "      <td>1</td>\n",
       "      <td>0</td>\n",
       "      <td>7</td>\n",
       "      <td>1</td>\n",
       "      <td>0</td>\n",
       "    </tr>\n",
       "    <tr>\n",
       "      <th>1</th>\n",
       "      <td>1</td>\n",
       "      <td>1</td>\n",
       "      <td>1</td>\n",
       "      <td>38</td>\n",
       "      <td>1</td>\n",
       "      <td>0</td>\n",
       "      <td>71</td>\n",
       "      <td>0</td>\n",
       "      <td>1</td>\n",
       "    </tr>\n",
       "    <tr>\n",
       "      <th>2</th>\n",
       "      <td>1</td>\n",
       "      <td>3</td>\n",
       "      <td>1</td>\n",
       "      <td>26</td>\n",
       "      <td>0</td>\n",
       "      <td>0</td>\n",
       "      <td>7</td>\n",
       "      <td>1</td>\n",
       "      <td>2</td>\n",
       "    </tr>\n",
       "    <tr>\n",
       "      <th>3</th>\n",
       "      <td>1</td>\n",
       "      <td>1</td>\n",
       "      <td>1</td>\n",
       "      <td>35</td>\n",
       "      <td>1</td>\n",
       "      <td>0</td>\n",
       "      <td>53</td>\n",
       "      <td>1</td>\n",
       "      <td>1</td>\n",
       "    </tr>\n",
       "    <tr>\n",
       "      <th>4</th>\n",
       "      <td>0</td>\n",
       "      <td>3</td>\n",
       "      <td>0</td>\n",
       "      <td>35</td>\n",
       "      <td>0</td>\n",
       "      <td>0</td>\n",
       "      <td>8</td>\n",
       "      <td>1</td>\n",
       "      <td>0</td>\n",
       "    </tr>\n",
       "    <tr>\n",
       "      <th>...</th>\n",
       "      <td>...</td>\n",
       "      <td>...</td>\n",
       "      <td>...</td>\n",
       "      <td>...</td>\n",
       "      <td>...</td>\n",
       "      <td>...</td>\n",
       "      <td>...</td>\n",
       "      <td>...</td>\n",
       "      <td>...</td>\n",
       "    </tr>\n",
       "    <tr>\n",
       "      <th>886</th>\n",
       "      <td>0</td>\n",
       "      <td>2</td>\n",
       "      <td>0</td>\n",
       "      <td>27</td>\n",
       "      <td>0</td>\n",
       "      <td>0</td>\n",
       "      <td>13</td>\n",
       "      <td>1</td>\n",
       "      <td>5</td>\n",
       "    </tr>\n",
       "    <tr>\n",
       "      <th>887</th>\n",
       "      <td>1</td>\n",
       "      <td>1</td>\n",
       "      <td>1</td>\n",
       "      <td>19</td>\n",
       "      <td>0</td>\n",
       "      <td>0</td>\n",
       "      <td>30</td>\n",
       "      <td>1</td>\n",
       "      <td>2</td>\n",
       "    </tr>\n",
       "    <tr>\n",
       "      <th>888</th>\n",
       "      <td>0</td>\n",
       "      <td>3</td>\n",
       "      <td>1</td>\n",
       "      <td>21</td>\n",
       "      <td>1</td>\n",
       "      <td>2</td>\n",
       "      <td>23</td>\n",
       "      <td>1</td>\n",
       "      <td>2</td>\n",
       "    </tr>\n",
       "    <tr>\n",
       "      <th>889</th>\n",
       "      <td>1</td>\n",
       "      <td>1</td>\n",
       "      <td>0</td>\n",
       "      <td>26</td>\n",
       "      <td>0</td>\n",
       "      <td>0</td>\n",
       "      <td>30</td>\n",
       "      <td>0</td>\n",
       "      <td>0</td>\n",
       "    </tr>\n",
       "    <tr>\n",
       "      <th>890</th>\n",
       "      <td>0</td>\n",
       "      <td>3</td>\n",
       "      <td>0</td>\n",
       "      <td>32</td>\n",
       "      <td>0</td>\n",
       "      <td>0</td>\n",
       "      <td>7</td>\n",
       "      <td>2</td>\n",
       "      <td>0</td>\n",
       "    </tr>\n",
       "  </tbody>\n",
       "</table>\n",
       "<p>891 rows × 9 columns</p>\n",
       "</div>"
      ],
      "text/plain": [
       "     Survived  Pclass  Sex  Age  SibSp  Parch  Fare  Embarked  Title\n",
       "0           0       3    0   22      1      0     7         1      0\n",
       "1           1       1    1   38      1      0    71         0      1\n",
       "2           1       3    1   26      0      0     7         1      2\n",
       "3           1       1    1   35      1      0    53         1      1\n",
       "4           0       3    0   35      0      0     8         1      0\n",
       "..        ...     ...  ...  ...    ...    ...   ...       ...    ...\n",
       "886         0       2    0   27      0      0    13         1      5\n",
       "887         1       1    1   19      0      0    30         1      2\n",
       "888         0       3    1   21      1      2    23         1      2\n",
       "889         1       1    0   26      0      0    30         0      0\n",
       "890         0       3    0   32      0      0     7         2      0\n",
       "\n",
       "[891 rows x 9 columns]"
      ]
     },
     "execution_count": 3,
     "metadata": {},
     "output_type": "execute_result"
    }
   ],
   "source": [
    "train_df"
   ]
  },
  {
   "cell_type": "markdown",
   "metadata": {},
   "source": [
    "Prepare class_names and categorical_names"
   ]
  },
  {
   "cell_type": "code",
   "execution_count": 4,
   "metadata": {},
   "outputs": [],
   "source": [
    "class_names = ['Died', 'Survived']\n",
    "categorical_names = {\n",
    "    1: ['male', 'female'],\n",
    "    6: ['Cherbourg', 'Southampton', 'Queenstown'],\n",
    "    7: ['Mr', 'Mrs', 'Miss', 'Master', 'Don', 'Rev', 'Dr', 'Mme', 'Ms', 'Major', \n",
    "        'Lady', 'Sir', 'Mlle', 'Col', 'Capt', 'Countess', 'Jonkheer']\n",
    "}\n"
   ]
  },
  {
   "cell_type": "markdown",
   "metadata": {},
   "source": [
    "### Train model\n",
    "For example random forest classifier"
   ]
  },
  {
   "cell_type": "code",
   "execution_count": 5,
   "metadata": {},
   "outputs": [],
   "source": [
    "X_train = train_df.drop(\"Survived\", axis=1)\n",
    "Y_train = train_df[\"Survived\"]"
   ]
  },
  {
   "cell_type": "code",
   "execution_count": 6,
   "metadata": {},
   "outputs": [
    {
     "data": {
      "text/plain": [
       "0.8428731762065096"
      ]
     },
     "execution_count": 6,
     "metadata": {},
     "output_type": "execute_result"
    }
   ],
   "source": [
    "clf = RandomForestClassifier(random_state=42, max_depth=4, n_estimators=100)\n",
    "clf.fit(X_train, Y_train)\n",
    "\n",
    "clf.score(X_train, Y_train)"
   ]
  },
  {
   "cell_type": "code",
   "execution_count": 7,
   "metadata": {},
   "outputs": [
    {
     "data": {
      "text/plain": [
       "'Accuracy: 0.82 (+/- 0.03)'"
      ]
     },
     "metadata": {},
     "output_type": "display_data"
    }
   ],
   "source": [
    "scores = cross_val_score(clf, X_train, Y_train, cv=5)\n",
    "display(\"Accuracy: %0.2f (+/- %0.2f)\" % (scores.mean(), scores.std() * 2))"
   ]
  },
  {
   "cell_type": "markdown",
   "metadata": {},
   "source": [
    "## Initialize ExpyBox instance"
   ]
  },
  {
   "cell_type": "code",
   "execution_count": 8,
   "metadata": {},
   "outputs": [],
   "source": [
    "expybox = ExpyBox(train_data=X_train, predict_function=clf.predict_proba, kernel_globals=globals(),\n",
    "                  categorical_names=categorical_names, mode='classification', class_names=class_names)"
   ]
  },
  {
   "cell_type": "markdown",
   "metadata": {},
   "source": [
    "## Partial Dependence Plots"
   ]
  },
  {
   "cell_type": "code",
   "execution_count": 9,
   "metadata": {
    "scrolled": false
   },
   "outputs": [
    {
     "data": {
      "application/vnd.jupyter.widget-view+json": {
       "model_id": "77b83abc612044d8937658c561221a69",
       "version_major": 2,
       "version_minor": 0
      },
      "text/plain": [
       "Tab(children=(GridspecLayout(children=(Combobox(value='Pclass', description='Feature to plot:', ensure_option=…"
      ]
     },
     "metadata": {},
     "output_type": "display_data"
    },
    {
     "data": {
      "application/vnd.jupyter.widget-view+json": {
       "model_id": "70a52740b3b64aee994d4bc7ec7742eb",
       "version_major": 2,
       "version_minor": 0
      },
      "text/plain": [
       "interactive(children=(Button(description='Run Interact', style=ButtonStyle()), Output()), _dom_classes=('widge…"
      ]
     },
     "metadata": {},
     "output_type": "display_data"
    }
   ],
   "source": [
    "expybox.pdplot()"
   ]
  },
  {
   "cell_type": "markdown",
   "metadata": {},
   "source": [
    "## LIME"
   ]
  },
  {
   "cell_type": "code",
   "execution_count": 10,
   "metadata": {},
   "outputs": [
    {
     "data": {
      "application/vnd.jupyter.widget-view+json": {
       "model_id": "449782828e374b20925ba9cefe958ff1",
       "version_major": 2,
       "version_minor": 0
      },
      "text/plain": [
       "Tab(children=(VBox(children=(Accordion(children=(BoundedIntText(value=0, description='Instance id:', descripti…"
      ]
     },
     "metadata": {},
     "output_type": "display_data"
    },
    {
     "data": {
      "application/vnd.jupyter.widget-view+json": {
       "model_id": "e03138838051440cb989c5ea742cbab7",
       "version_major": 2,
       "version_minor": 0
      },
      "text/plain": [
       "interactive(children=(Button(description='Run Interact', style=ButtonStyle()), Output()), _dom_classes=('widge…"
      ]
     },
     "metadata": {},
     "output_type": "display_data"
    }
   ],
   "source": [
    "expybox.lime()"
   ]
  },
  {
   "cell_type": "markdown",
   "metadata": {},
   "source": [
    "## Anchors"
   ]
  },
  {
   "cell_type": "code",
   "execution_count": 11,
   "metadata": {},
   "outputs": [
    {
     "data": {
      "application/vnd.jupyter.widget-view+json": {
       "model_id": "1da055e10bef42448129e8fd2ab288f3",
       "version_major": 2,
       "version_minor": 0
      },
      "text/plain": [
       "Tab(children=(VBox(children=(Accordion(children=(BoundedIntText(value=0, description='Instance id:', descripti…"
      ]
     },
     "metadata": {},
     "output_type": "display_data"
    },
    {
     "data": {
      "application/vnd.jupyter.widget-view+json": {
       "model_id": "f24cb4db799a4d53849567a1b52873f2",
       "version_major": 2,
       "version_minor": 0
      },
      "text/plain": [
       "interactive(children=(Button(description='Run Interact', style=ButtonStyle()), Output()), _dom_classes=('widge…"
      ]
     },
     "metadata": {},
     "output_type": "display_data"
    }
   ],
   "source": [
    "expybox.anchors()"
   ]
  },
  {
   "cell_type": "markdown",
   "metadata": {},
   "source": [
    "## SHAP\n",
    "For random forest we can use treeSHAP"
   ]
  },
  {
   "cell_type": "code",
   "execution_count": 12,
   "metadata": {},
   "outputs": [
    {
     "data": {
      "application/vnd.jupyter.widget-view+json": {
       "model_id": "24ef93088aa9415d82997fca67babc54",
       "version_major": 2,
       "version_minor": 0
      },
      "text/plain": [
       "Tab(children=(VBox(children=(Accordion(children=(BoundedIntText(value=0, description='Instance id:', descripti…"
      ]
     },
     "metadata": {},
     "output_type": "display_data"
    },
    {
     "data": {
      "application/vnd.jupyter.widget-view+json": {
       "model_id": "d96a8476c1994fbe8eac38523a9113dd",
       "version_major": 2,
       "version_minor": 0
      },
      "text/plain": [
       "interactive(children=(Button(description='Run Interact', style=ButtonStyle()), Output()), _dom_classes=('widge…"
      ]
     },
     "metadata": {},
     "output_type": "display_data"
    }
   ],
   "source": [
    "expybox.shap()"
   ]
  },
  {
   "cell_type": "markdown",
   "metadata": {},
   "source": [
    "### SHAP feature importance"
   ]
  },
  {
   "cell_type": "code",
   "execution_count": 13,
   "metadata": {},
   "outputs": [
    {
     "data": {
      "application/vnd.jupyter.widget-view+json": {
       "model_id": "1dfff64b3fdb470aaa3d3ce65c06b757",
       "version_major": 2,
       "version_minor": 0
      },
      "text/plain": [
       "Tab(children=(GridspecLayout(children=(Dropdown(description='Class to plot:', description_tooltip='For classif…"
      ]
     },
     "metadata": {},
     "output_type": "display_data"
    },
    {
     "data": {
      "application/vnd.jupyter.widget-view+json": {
       "model_id": "5eb0e4665440487eac0f6266c74e7062",
       "version_major": 2,
       "version_minor": 0
      },
      "text/plain": [
       "interactive(children=(Button(description='Run Interact', style=ButtonStyle()), Output()), _dom_classes=('widge…"
      ]
     },
     "metadata": {},
     "output_type": "display_data"
    }
   ],
   "source": [
    "expybox.shap_feature_importance()"
   ]
  }
 ],
 "metadata": {
  "kernelspec": {
   "display_name": "Python64",
   "language": "python",
   "name": "myenv"
  },
  "language_info": {
   "codemirror_mode": {
    "name": "ipython",
    "version": 3
   },
   "file_extension": ".py",
   "mimetype": "text/x-python",
   "name": "python",
   "nbconvert_exporter": "python",
   "pygments_lexer": "ipython3",
   "version": "3.7.6"
  },
  "widgets": {
   "application/vnd.jupyter.widget-state+json": {
    "state": {
     "02f385735b87481cb3203c5d0eadde0a": {
      "model_module": "@jupyter-widgets/controls",
      "model_module_version": "1.5.0",
      "model_name": "ButtonModel",
      "state": {
       "description": "Run Interact",
       "layout": "IPY_MODEL_e67dbcfff86b4efc99480048ef3538c7",
       "style": "IPY_MODEL_9124188b1e924fe3acb050b8a8914027"
      }
     },
     "047ec51277f94a118d586d15acac7859": {
      "model_module": "@jupyter-widgets/output",
      "model_module_version": "1.0.0",
      "model_name": "OutputModel",
      "state": {
       "layout": "IPY_MODEL_888a7458356c44b6ba157ec6976cdd46",
       "outputs": [
        {
         "name": "stdout",
         "output_type": "stream",
         "text": ""
        }
       ]
      }
     },
     "04e03d67862a40d5a7725620b2920593": {
      "model_module": "@jupyter-widgets/base",
      "model_module_version": "1.2.0",
      "model_name": "LayoutModel",
      "state": {}
     },
     "066c3667f37c447c8b99f498375de048": {
      "model_module": "@jupyter-widgets/base",
      "model_module_version": "1.2.0",
      "model_name": "LayoutModel",
      "state": {}
     },
     "0898469ea8f34664bdec2caf8f45c9f3": {
      "model_module": "@jupyter-widgets/controls",
      "model_module_version": "1.5.0",
      "model_name": "DescriptionStyleModel",
      "state": {
       "description_width": ""
      }
     },
     "08ba90f34cee43ff88c18eedb14f5164": {
      "model_module": "@jupyter-widgets/base",
      "model_module_version": "1.2.0",
      "model_name": "LayoutModel",
      "state": {}
     },
     "09adf83920a648488af4726f547e3fdd": {
      "model_module": "@jupyter-widgets/output",
      "model_module_version": "1.0.0",
      "model_name": "OutputModel",
      "state": {
       "layout": "IPY_MODEL_08ba90f34cee43ff88c18eedb14f5164",
       "outputs": [
        {
         "data": {
          "application/vnd.jupyter.widget-view+json": {
           "model_id": "59dba34b8da143b2af5a29dbe73ef745",
           "version_major": 2,
           "version_minor": 0
          },
          "text/plain": "Output()"
         },
         "metadata": {},
         "output_type": "display_data"
        },
        {
         "data": {
          "image/png": "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\n",
          "text/plain": "<Figure size 1080x684 with 3 Axes>"
         },
         "metadata": {
          "needs_background": "light"
         },
         "output_type": "display_data"
        }
       ]
      }
     },
     "0db8790ce2f34779ab2086dca45c7042": {
      "model_module": "@jupyter-widgets/controls",
      "model_module_version": "1.5.0",
      "model_name": "VBoxModel",
      "state": {
       "_dom_classes": [
        "widget-interact"
       ],
       "children": [
        "IPY_MODEL_3c126124d6f34a4e9ea15d5cae3f4bf6",
        "IPY_MODEL_301a464b9b3444199c15196253ab4ca5",
        "IPY_MODEL_7f5e53fdd8974391a4320e3e7b18ccaa"
       ],
       "layout": "IPY_MODEL_1de76867711c439689745b56e6a91368"
      }
     },
     "0de88028fb844124814b2be3fbad6933": {
      "model_module": "@jupyter-widgets/output",
      "model_module_version": "1.0.0",
      "model_name": "OutputModel",
      "state": {
       "layout": "IPY_MODEL_b62a86d5cba447d7b29e0e97f7b67d20",
       "outputs": [
        {
         "name": "stdout",
         "output_type": "stream",
         "text": ""
        }
       ]
      }
     },
     "0e21c970a1444f05a2f9e75e302210af": {
      "model_module": "@jupyter-widgets/base",
      "model_module_version": "1.2.0",
      "model_name": "LayoutModel",
      "state": {}
     },
     "0ea6da7ddf434808ada5f057eeb23d17": {
      "model_module": "@jupyter-widgets/base",
      "model_module_version": "1.2.0",
      "model_name": "LayoutModel",
      "state": {}
     },
     "1028555e00394894ae4b16abd2a7ec2a": {
      "model_module": "@jupyter-widgets/output",
      "model_module_version": "1.0.0",
      "model_name": "OutputModel",
      "state": {
       "layout": "IPY_MODEL_3746205ee5bc410aa3c102ae098f2fa0"
      }
     },
     "10e69c59da304cb2bbb42292702b5147": {
      "model_module": "@jupyter-widgets/controls",
      "model_module_version": "1.5.0",
      "model_name": "ButtonStyleModel",
      "state": {}
     },
     "12403c7d3e434ee8be09db1cd9a22ffd": {
      "model_module": "@jupyter-widgets/base",
      "model_module_version": "1.2.0",
      "model_name": "LayoutModel",
      "state": {}
     },
     "124ef823258a4ebc986e0fc3de56106d": {
      "model_module": "@jupyter-widgets/output",
      "model_module_version": "1.0.0",
      "model_name": "OutputModel",
      "state": {
       "layout": "IPY_MODEL_6b9436aa05cc461d935b0c269f2921cc",
       "outputs": [
        {
         "name": "stdout",
         "output_type": "stream",
         "text": ""
        }
       ]
      }
     },
     "132199287ddf4f8db075fcdbb45e0424": {
      "model_module": "@jupyter-widgets/controls",
      "model_module_version": "1.5.0",
      "model_name": "BoundedIntTextModel",
      "state": {
       "description": "Instance id:",
       "layout": "IPY_MODEL_12403c7d3e434ee8be09db1cd9a22ffd",
       "max": 890,
       "style": "IPY_MODEL_80eb1e7cb4834891b53a4d5eb6f38371"
      }
     },
     "138edea4e8cb4a7685335ca88a3bfc0c": {
      "model_module": "@jupyter-widgets/controls",
      "model_module_version": "1.5.0",
      "model_name": "BoundedIntTextModel",
      "state": {
       "description": "Instance id:",
       "layout": "IPY_MODEL_3d28824596664d6ea0cc84ee053d5a39",
       "max": 890,
       "style": "IPY_MODEL_62efe7a806214880b0cc357153ecff81"
      }
     },
     "16f70036781344aa801660aae4beaa0a": {
      "model_module": "@jupyter-widgets/base",
      "model_module_version": "1.2.0",
      "model_name": "LayoutModel",
      "state": {}
     },
     "1723903dae4f4e2abbc92360f621f99f": {
      "model_module": "@jupyter-widgets/controls",
      "model_module_version": "1.5.0",
      "model_name": "VBoxModel",
      "state": {
       "_dom_classes": [
        "widget-interact"
       ],
       "children": [
        "IPY_MODEL_c9279e20886d4968a1aef6598a375054",
        "IPY_MODEL_9cf39608d42d469c9af3d104942e8eec",
        "IPY_MODEL_99ac99b1b84948b2bad502f4fb4336c7",
        "IPY_MODEL_63578690f70145838984a0d64dea1cbc"
       ],
       "layout": "IPY_MODEL_e183125a5c934e998371fe481328dd4c"
      }
     },
     "18e24ebfa2ad4d57ab58c4b75f8dd0cf": {
      "model_module": "@jupyter-widgets/base",
      "model_module_version": "1.2.0",
      "model_name": "LayoutModel",
      "state": {}
     },
     "1b1f33f8b5954020a8c5ee21caee1939": {
      "model_module": "@jupyter-widgets/output",
      "model_module_version": "1.0.0",
      "model_name": "OutputModel",
      "state": {
       "layout": "IPY_MODEL_53241f261d6e475e966190e5591bc6b7"
      }
     },
     "1d2fdd602e5140f0ac81214921e16563": {
      "model_module": "@jupyter-widgets/base",
      "model_module_version": "1.2.0",
      "model_name": "LayoutModel",
      "state": {}
     },
     "1de76867711c439689745b56e6a91368": {
      "model_module": "@jupyter-widgets/base",
      "model_module_version": "1.2.0",
      "model_name": "LayoutModel",
      "state": {}
     },
     "1e875305c2af4fd9b29ff83217951736": {
      "model_module": "@jupyter-widgets/controls",
      "model_module_version": "1.5.0",
      "model_name": "VBoxModel",
      "state": {
       "_dom_classes": [
        "widget-interact"
       ],
       "children": [
        "IPY_MODEL_e4a8778facf8403bb13a133cc191b4e5",
        "IPY_MODEL_f5de088134c14578a81157ece92ef930",
        "IPY_MODEL_1b1f33f8b5954020a8c5ee21caee1939"
       ],
       "layout": "IPY_MODEL_ea030caabe394dc4b7945c9120b7f8c2"
      }
     },
     "20112eec8f2142c9b0e1a0de347136da": {
      "model_module": "@jupyter-widgets/base",
      "model_module_version": "1.2.0",
      "model_name": "LayoutModel",
      "state": {}
     },
     "203b84b27de9406380af25ba8ca70dee": {
      "model_module": "@jupyter-widgets/output",
      "model_module_version": "1.0.0",
      "model_name": "OutputModel",
      "state": {
       "layout": "IPY_MODEL_9e1681e1a6f044c4801ff2203eedcf3e"
      }
     },
     "230f81b5f43040f1b23ad0bc718c2999": {
      "model_module": "@jupyter-widgets/base",
      "model_module_version": "1.2.0",
      "model_name": "LayoutModel",
      "state": {}
     },
     "24325a5832334c8a95bf00c179bdc6c8": {
      "model_module": "@jupyter-widgets/controls",
      "model_module_version": "1.5.0",
      "model_name": "BoundedIntTextModel",
      "state": {
       "description": "Instance id:",
       "layout": "IPY_MODEL_dde7a86f7af5447096f402a1ab7a1320",
       "max": 890,
       "style": "IPY_MODEL_a596374198384ce5a2ca3b2a5cb38a03"
      }
     },
     "256ee0f4d3fa44c48e9e728e34b3aa26": {
      "model_module": "@jupyter-widgets/controls",
      "model_module_version": "1.5.0",
      "model_name": "ButtonModel",
      "state": {
       "description": "Run Interact",
       "layout": "IPY_MODEL_c24d4ad5b4c7435eaa9dae4fd00a84bf",
       "style": "IPY_MODEL_f239a182ecbc4bd78fc4646eb418b376"
      }
     },
     "2a326104fc914592a3296e5ec925fc73": {
      "model_module": "@jupyter-widgets/output",
      "model_module_version": "1.0.0",
      "model_name": "OutputModel",
      "state": {
       "layout": "IPY_MODEL_93f9ad70303346a59eb672a6a8f3624d"
      }
     },
     "2cc031af95764aa3ab2e971a8ae73f99": {
      "model_module": "@jupyter-widgets/controls",
      "model_module_version": "1.5.0",
      "model_name": "CheckboxModel",
      "state": {
       "description": "lines",
       "disabled": false,
       "layout": "IPY_MODEL_066c3667f37c447c8b99f498375de048",
       "style": "IPY_MODEL_bb927ba8f9854783a068ed14557cab23",
       "value": false
      }
     },
     "2e1955f07cda45d1ab7ff8da023d42cd": {
      "model_module": "@jupyter-widgets/controls",
      "model_module_version": "1.5.0",
      "model_name": "HTMLModel",
      "state": {
       "layout": "IPY_MODEL_e2ecc57963974a3d908f3728f1f335a8",
       "style": "IPY_MODEL_59adc8570e3941d5919bd2f4f1775596",
       "value": " 891/891 [00:55&lt;00:00, 15.91it/s]"
      }
     },
     "301a464b9b3444199c15196253ab4ca5": {
      "model_module": "@jupyter-widgets/controls",
      "model_module_version": "1.5.0",
      "model_name": "ButtonModel",
      "state": {
       "description": "Run Interact",
       "layout": "IPY_MODEL_e196ee896aa24853b15ce15fefa3b3e2",
       "style": "IPY_MODEL_b646d3f538434ea5b80460f06e6bfb14"
      }
     },
     "3213d8bb533745b7951d40446c6cb87a": {
      "model_module": "@jupyter-widgets/controls",
      "model_module_version": "1.5.0",
      "model_name": "DropdownModel",
      "state": {
       "_options_labels": [
        "Pclass",
        "Sex",
        "Age",
        "SibSp",
        "Parch",
        "Fare",
        "Embarked",
        "Title"
       ],
       "description": "variable",
       "index": 0,
       "layout": "IPY_MODEL_18e24ebfa2ad4d57ab58c4b75f8dd0cf",
       "style": "IPY_MODEL_0898469ea8f34664bdec2caf8f45c9f3"
      }
     },
     "338514911c3b487795a8666f55e35918": {
      "model_module": "@jupyter-widgets/controls",
      "model_module_version": "1.5.0",
      "model_name": "DescriptionStyleModel",
      "state": {
       "description_width": ""
      }
     },
     "34aa8edccd304310a94bef71520a0861": {
      "model_module": "@jupyter-widgets/controls",
      "model_module_version": "1.5.0",
      "model_name": "HBoxModel",
      "state": {
       "children": [
        "IPY_MODEL_9a4983f09a754287a60048dde626a1e3",
        "IPY_MODEL_2e1955f07cda45d1ab7ff8da023d42cd"
       ],
       "layout": "IPY_MODEL_7fd661a940984d959ce56ebffc3027c6"
      }
     },
     "34e82574e52f4bc69164739826984e6c": {
      "model_module": "@jupyter-widgets/base",
      "model_module_version": "1.2.0",
      "model_name": "LayoutModel",
      "state": {}
     },
     "367924e38e6648af9a7449259d2cd33d": {
      "model_module": "@jupyter-widgets/controls",
      "model_module_version": "1.5.0",
      "model_name": "VBoxModel",
      "state": {
       "_dom_classes": [
        "widget-interact"
       ],
       "children": [
        "IPY_MODEL_3213d8bb533745b7951d40446c6cb87a",
        "IPY_MODEL_714fa1b067c644e0905d75f396f59247",
        "IPY_MODEL_7ed0b5b6ea3b4ea79052b67747a7c425"
       ],
       "layout": "IPY_MODEL_e03a6099f78242998fe47c6c0603e0e9"
      }
     },
     "3746205ee5bc410aa3c102ae098f2fa0": {
      "model_module": "@jupyter-widgets/base",
      "model_module_version": "1.2.0",
      "model_name": "LayoutModel",
      "state": {}
     },
     "37683126ad964c18829442b1f9ae68d0": {
      "model_module": "@jupyter-widgets/controls",
      "model_module_version": "1.5.0",
      "model_name": "VBoxModel",
      "state": {
       "_dom_classes": [
        "widget-interact"
       ],
       "children": [
        "IPY_MODEL_6caae9feaf3143d8acdc3207563865b4",
        "IPY_MODEL_f1c68f1c1eb9485981dd3d469e3a89ea",
        "IPY_MODEL_72d1e060256d42e6915801ee0cad7b9e"
       ],
       "layout": "IPY_MODEL_230f81b5f43040f1b23ad0bc718c2999"
      }
     },
     "385e10fd7ffc406c968d727a7d337f9f": {
      "model_module": "@jupyter-widgets/controls",
      "model_module_version": "1.5.0",
      "model_name": "ButtonStyleModel",
      "state": {}
     },
     "3b5dfcf050a7477a82e34aa3467faa40": {
      "model_module": "@jupyter-widgets/base",
      "model_module_version": "1.2.0",
      "model_name": "LayoutModel",
      "state": {}
     },
     "3c126124d6f34a4e9ea15d5cae3f4bf6": {
      "model_module": "@jupyter-widgets/controls",
      "model_module_version": "1.5.0",
      "model_name": "BoundedIntTextModel",
      "state": {
       "description": "Instance id:",
       "layout": "IPY_MODEL_3b5dfcf050a7477a82e34aa3467faa40",
       "max": 890,
       "style": "IPY_MODEL_afd55a1e7ef144a9b1edc99d55b1879d"
      }
     },
     "3d28824596664d6ea0cc84ee053d5a39": {
      "model_module": "@jupyter-widgets/base",
      "model_module_version": "1.2.0",
      "model_name": "LayoutModel",
      "state": {}
     },
     "3e4d8902ebf8489e9272fb5f78076180": {
      "model_module": "@jupyter-widgets/base",
      "model_module_version": "1.2.0",
      "model_name": "LayoutModel",
      "state": {}
     },
     "3e801ce01f6241c885d50521f945cbac": {
      "model_module": "@jupyter-widgets/controls",
      "model_module_version": "1.5.0",
      "model_name": "HBoxModel",
      "state": {
       "children": [
        "IPY_MODEL_a3dd7ffd5ed842618496550f722a12aa",
        "IPY_MODEL_d9d408fc220248799f487433a38e8c0a"
       ],
       "layout": "IPY_MODEL_ad8683a845f14d1ea37303d17f8587ed"
      }
     },
     "3f0360c0e4fb46e284f9b6f3aaf167ab": {
      "model_module": "@jupyter-widgets/base",
      "model_module_version": "1.2.0",
      "model_name": "LayoutModel",
      "state": {}
     },
     "4216f90544d94c3eb07a27aaa22e7f4a": {
      "model_module": "@jupyter-widgets/base",
      "model_module_version": "1.2.0",
      "model_name": "LayoutModel",
      "state": {}
     },
     "42a065bfe6f44e8b82273536cd5e0c00": {
      "model_module": "@jupyter-widgets/base",
      "model_module_version": "1.2.0",
      "model_name": "LayoutModel",
      "state": {}
     },
     "44381050598543e78abfb3f2f2382775": {
      "model_module": "@jupyter-widgets/output",
      "model_module_version": "1.0.0",
      "model_name": "OutputModel",
      "state": {
       "layout": "IPY_MODEL_62e1a048bfa04858ba1ba9f4e59d0a97"
      }
     },
     "44f5ca869b804d6e849fd73afe932195": {
      "model_module": "@jupyter-widgets/output",
      "model_module_version": "1.0.0",
      "model_name": "OutputModel",
      "state": {
       "layout": "IPY_MODEL_d8bb0d51d5004e7a955739420db3864c",
       "outputs": [
        {
         "name": "stdout",
         "output_type": "stream",
         "text": ""
        }
       ]
      }
     },
     "45119bb581304f6683a77237903d35fe": {
      "model_module": "@jupyter-widgets/controls",
      "model_module_version": "1.5.0",
      "model_name": "VBoxModel",
      "state": {
       "_dom_classes": [
        "widget-interact"
       ],
       "children": [
        "IPY_MODEL_5a7f67440850455ab9b635604125510c",
        "IPY_MODEL_fd3c3d96078b4023825a786b6d2085f4",
        "IPY_MODEL_1028555e00394894ae4b16abd2a7ec2a"
       ],
       "layout": "IPY_MODEL_b5b623a33cee4285963d632f4970db6a"
      }
     },
     "46c32c1cc360493bb3203f5d0e30ddec": {
      "model_module": "@jupyter-widgets/base",
      "model_module_version": "1.2.0",
      "model_name": "LayoutModel",
      "state": {}
     },
     "476f68ea1e1c40c183a8e9702c66310b": {
      "model_module": "@jupyter-widgets/base",
      "model_module_version": "1.2.0",
      "model_name": "LayoutModel",
      "state": {}
     },
     "4e7fcf696aec4738ab54a6e4ad5f427e": {
      "model_module": "@jupyter-widgets/base",
      "model_module_version": "1.2.0",
      "model_name": "LayoutModel",
      "state": {}
     },
     "53241f261d6e475e966190e5591bc6b7": {
      "model_module": "@jupyter-widgets/base",
      "model_module_version": "1.2.0",
      "model_name": "LayoutModel",
      "state": {}
     },
     "550b34464ccf4c64a13f642238d093b5": {
      "model_module": "@jupyter-widgets/controls",
      "model_module_version": "1.5.0",
      "model_name": "FloatSliderModel",
      "state": {
       "continuous_update": false,
       "description": "Precision threshold:",
       "layout": "IPY_MODEL_a193b116788f49829f85549fe97a45a1",
       "max": 1,
       "min": 0.7,
       "step": 0.01,
       "style": "IPY_MODEL_79521a0049ab484c8c513fc2f8965736",
       "value": 0.95
      }
     },
     "59adc8570e3941d5919bd2f4f1775596": {
      "model_module": "@jupyter-widgets/controls",
      "model_module_version": "1.5.0",
      "model_name": "DescriptionStyleModel",
      "state": {
       "description_width": ""
      }
     },
     "59dba34b8da143b2af5a29dbe73ef745": {
      "model_module": "@jupyter-widgets/output",
      "model_module_version": "1.0.0",
      "model_name": "OutputModel",
      "state": {
       "layout": "IPY_MODEL_97a389679e734bb7ad4af442311a6346",
       "outputs": [
        {
         "name": "stdout",
         "output_type": "stream",
         "text": ""
        }
       ]
      }
     },
     "5a7f67440850455ab9b635604125510c": {
      "model_module": "@jupyter-widgets/controls",
      "model_module_version": "1.5.0",
      "model_name": "BoundedIntTextModel",
      "state": {
       "description": "Instance id:",
       "layout": "IPY_MODEL_eb6418f83e0847a8bd79c6fd658b4ae9",
       "max": 890,
       "style": "IPY_MODEL_f67796d805c646d387ccc42fab7719cd"
      }
     },
     "5cc2717183c84c6b913879809ccefcb4": {
      "model_module": "@jupyter-widgets/base",
      "model_module_version": "1.2.0",
      "model_name": "LayoutModel",
      "state": {}
     },
     "5d340474dd1c4c70986fe73429660a69": {
      "model_module": "@jupyter-widgets/controls",
      "model_module_version": "1.5.0",
      "model_name": "DescriptionStyleModel",
      "state": {
       "description_width": ""
      }
     },
     "62e1a048bfa04858ba1ba9f4e59d0a97": {
      "model_module": "@jupyter-widgets/base",
      "model_module_version": "1.2.0",
      "model_name": "LayoutModel",
      "state": {}
     },
     "62efe7a806214880b0cc357153ecff81": {
      "model_module": "@jupyter-widgets/controls",
      "model_module_version": "1.5.0",
      "model_name": "DescriptionStyleModel",
      "state": {
       "description_width": ""
      }
     },
     "63578690f70145838984a0d64dea1cbc": {
      "model_module": "@jupyter-widgets/output",
      "model_module_version": "1.0.0",
      "model_name": "OutputModel",
      "state": {
       "layout": "IPY_MODEL_1d2fdd602e5140f0ac81214921e16563"
      }
     },
     "6b9436aa05cc461d935b0c269f2921cc": {
      "model_module": "@jupyter-widgets/base",
      "model_module_version": "1.2.0",
      "model_name": "LayoutModel",
      "state": {}
     },
     "6caae9feaf3143d8acdc3207563865b4": {
      "model_module": "@jupyter-widgets/controls",
      "model_module_version": "1.5.0",
      "model_name": "DropdownModel",
      "state": {
       "_options_labels": [
        "Pclass",
        "Sex",
        "Age",
        "SibSp",
        "Parch",
        "Fare",
        "Embarked",
        "Title"
       ],
       "description": "variable",
       "index": 0,
       "layout": "IPY_MODEL_a4c7b4fd929045fdad3318f0ab70b7a0",
       "style": "IPY_MODEL_338514911c3b487795a8666f55e35918"
      }
     },
     "6ef792a672754a55a3a0a790ffb8db3a": {
      "model_module": "@jupyter-widgets/output",
      "model_module_version": "1.0.0",
      "model_name": "OutputModel",
      "state": {
       "layout": "IPY_MODEL_20112eec8f2142c9b0e1a0de347136da"
      }
     },
     "70d8fa0ad1a04f529cbd01f85cca59f6": {
      "model_module": "@jupyter-widgets/controls",
      "model_module_version": "1.5.0",
      "model_name": "FloatSliderModel",
      "state": {
       "continuous_update": false,
       "description": "Precision threshold:",
       "layout": "IPY_MODEL_0ea6da7ddf434808ada5f057eeb23d17",
       "max": 1,
       "min": 0.7,
       "step": 0.01,
       "style": "IPY_MODEL_f7be60a5e02d4842b0d0e8f820995ec2",
       "value": 0.95
      }
     },
     "714fa1b067c644e0905d75f396f59247": {
      "model_module": "@jupyter-widgets/controls",
      "model_module_version": "1.5.0",
      "model_name": "ButtonModel",
      "state": {
       "description": "Run Interact",
       "layout": "IPY_MODEL_476f68ea1e1c40c183a8e9702c66310b",
       "style": "IPY_MODEL_10e69c59da304cb2bbb42292702b5147"
      }
     },
     "72d1e060256d42e6915801ee0cad7b9e": {
      "model_module": "@jupyter-widgets/output",
      "model_module_version": "1.0.0",
      "model_name": "OutputModel",
      "state": {
       "layout": "IPY_MODEL_16f70036781344aa801660aae4beaa0a"
      }
     },
     "7750bbaa2b804c13aecc400057fa73d0": {
      "model_module": "@jupyter-widgets/controls",
      "model_module_version": "1.5.0",
      "model_name": "BoundedIntTextModel",
      "state": {
       "description": "Instance id:",
       "layout": "IPY_MODEL_f1387ee494784a8389885fe42c7b449d",
       "max": 890,
       "style": "IPY_MODEL_5d340474dd1c4c70986fe73429660a69"
      }
     },
     "777e6582ab8a4960b4eb4e87a5d10a1d": {
      "model_module": "@jupyter-widgets/controls",
      "model_module_version": "1.5.0",
      "model_name": "DescriptionStyleModel",
      "state": {
       "description_width": ""
      }
     },
     "78e95d9f3b42451b9db2ce93673fa619": {
      "model_module": "@jupyter-widgets/output",
      "model_module_version": "1.0.0",
      "model_name": "OutputModel",
      "state": {
       "layout": "IPY_MODEL_d82e960c50a54449a5bb1b952d37a8c5",
       "outputs": [
        {
         "name": "stdout",
         "output_type": "stream",
         "text": ""
        }
       ]
      }
     },
     "791abe577f72458cb30c9be72999bd3b": {
      "model_module": "@jupyter-widgets/output",
      "model_module_version": "1.0.0",
      "model_name": "OutputModel",
      "state": {
       "layout": "IPY_MODEL_04e03d67862a40d5a7725620b2920593",
       "outputs": [
        {
         "name": "stdout",
         "output_type": "stream",
         "text": ""
        }
       ]
      }
     },
     "79521a0049ab484c8c513fc2f8965736": {
      "model_module": "@jupyter-widgets/controls",
      "model_module_version": "1.5.0",
      "model_name": "SliderStyleModel",
      "state": {
       "description_width": ""
      }
     },
     "7e4d564c72d54010bcc6b96cf0d2a254": {
      "model_module": "@jupyter-widgets/base",
      "model_module_version": "1.2.0",
      "model_name": "LayoutModel",
      "state": {}
     },
     "7ed0b5b6ea3b4ea79052b67747a7c425": {
      "model_module": "@jupyter-widgets/output",
      "model_module_version": "1.0.0",
      "model_name": "OutputModel",
      "state": {
       "layout": "IPY_MODEL_42a065bfe6f44e8b82273536cd5e0c00"
      }
     },
     "7f5e53fdd8974391a4320e3e7b18ccaa": {
      "model_module": "@jupyter-widgets/output",
      "model_module_version": "1.0.0",
      "model_name": "OutputModel",
      "state": {
       "layout": "IPY_MODEL_acdac640f14645c8b78b0bf336b96d89"
      }
     },
     "7fc6e6d42bcb430383ef16ab52b539b3": {
      "model_module": "@jupyter-widgets/controls",
      "model_module_version": "1.5.0",
      "model_name": "VBoxModel",
      "state": {
       "_dom_classes": [
        "widget-interact"
       ],
       "children": [
        "IPY_MODEL_24325a5832334c8a95bf00c179bdc6c8",
        "IPY_MODEL_b1241362596f4270b27284d8caebb16b",
        "IPY_MODEL_b69df609d53f43bcaf0832b5d6120ff7"
       ],
       "layout": "IPY_MODEL_96a9d50af58f4a9aa50b2d41d8054aec"
      }
     },
     "7fd661a940984d959ce56ebffc3027c6": {
      "model_module": "@jupyter-widgets/base",
      "model_module_version": "1.2.0",
      "model_name": "LayoutModel",
      "state": {}
     },
     "80eb1e7cb4834891b53a4d5eb6f38371": {
      "model_module": "@jupyter-widgets/controls",
      "model_module_version": "1.5.0",
      "model_name": "DescriptionStyleModel",
      "state": {
       "description_width": ""
      }
     },
     "813cf48bf30c46a7b3be3daecc5b832b": {
      "model_module": "@jupyter-widgets/controls",
      "model_module_version": "1.5.0",
      "model_name": "ButtonStyleModel",
      "state": {}
     },
     "82fe3950251c478cb6d29d3a18d75ab4": {
      "model_module": "@jupyter-widgets/controls",
      "model_module_version": "1.5.0",
      "model_name": "DescriptionStyleModel",
      "state": {
       "description_width": ""
      }
     },
     "888a7458356c44b6ba157ec6976cdd46": {
      "model_module": "@jupyter-widgets/base",
      "model_module_version": "1.2.0",
      "model_name": "LayoutModel",
      "state": {}
     },
     "8a030cc887724e68b86e90017b44fd62": {
      "model_module": "@jupyter-widgets/controls",
      "model_module_version": "1.5.0",
      "model_name": "DescriptionStyleModel",
      "state": {
       "description_width": ""
      }
     },
     "8c4fc80e2b3542be9316a67f90077c50": {
      "model_module": "@jupyter-widgets/controls",
      "model_module_version": "1.5.0",
      "model_name": "ButtonModel",
      "state": {
       "description": "Run Interact",
       "layout": "IPY_MODEL_4216f90544d94c3eb07a27aaa22e7f4a",
       "style": "IPY_MODEL_813cf48bf30c46a7b3be3daecc5b832b"
      }
     },
     "8d614bd35589463290306a2961965fb7": {
      "model_module": "@jupyter-widgets/base",
      "model_module_version": "1.2.0",
      "model_name": "LayoutModel",
      "state": {}
     },
     "9124188b1e924fe3acb050b8a8914027": {
      "model_module": "@jupyter-widgets/controls",
      "model_module_version": "1.5.0",
      "model_name": "ButtonStyleModel",
      "state": {}
     },
     "9281380a4f154c229d95eaf2f218821c": {
      "model_module": "@jupyter-widgets/controls",
      "model_module_version": "1.5.0",
      "model_name": "CheckboxModel",
      "state": {
       "description": "lines",
       "disabled": false,
       "layout": "IPY_MODEL_f5e17d006294464a82493f782c2bcddf",
       "style": "IPY_MODEL_bb488208881f47f88b7019767af696a3",
       "value": false
      }
     },
     "93368cede3c74dce8ec645a8479dec94": {
      "model_module": "@jupyter-widgets/base",
      "model_module_version": "1.2.0",
      "model_name": "LayoutModel",
      "state": {}
     },
     "93e21b1575b64311bc173434a456e484": {
      "model_module": "@jupyter-widgets/controls",
      "model_module_version": "1.5.0",
      "model_name": "ButtonStyleModel",
      "state": {}
     },
     "93f9ad70303346a59eb672a6a8f3624d": {
      "model_module": "@jupyter-widgets/base",
      "model_module_version": "1.2.0",
      "model_name": "LayoutModel",
      "state": {}
     },
     "94cf836ea78648d687a1ef12f48bff9c": {
      "model_module": "@jupyter-widgets/base",
      "model_module_version": "1.2.0",
      "model_name": "LayoutModel",
      "state": {}
     },
     "96a9d50af58f4a9aa50b2d41d8054aec": {
      "model_module": "@jupyter-widgets/base",
      "model_module_version": "1.2.0",
      "model_name": "LayoutModel",
      "state": {}
     },
     "96cb64e744ba43ec9820bb28badd11fd": {
      "model_module": "@jupyter-widgets/controls",
      "model_module_version": "1.5.0",
      "model_name": "ProgressStyleModel",
      "state": {
       "description_width": "initial"
      }
     },
     "9735997456c34e68bf9279e11bd6109a": {
      "model_module": "@jupyter-widgets/controls",
      "model_module_version": "1.5.0",
      "model_name": "DescriptionStyleModel",
      "state": {
       "description_width": ""
      }
     },
     "979d9823c50c4b788e136ca78e881fae": {
      "model_module": "@jupyter-widgets/base",
      "model_module_version": "1.2.0",
      "model_name": "LayoutModel",
      "state": {}
     },
     "97a389679e734bb7ad4af442311a6346": {
      "model_module": "@jupyter-widgets/base",
      "model_module_version": "1.2.0",
      "model_name": "LayoutModel",
      "state": {}
     },
     "999d432c42ea461aaa929fe56bb468e2": {
      "model_module": "@jupyter-widgets/base",
      "model_module_version": "1.2.0",
      "model_name": "LayoutModel",
      "state": {}
     },
     "99ac99b1b84948b2bad502f4fb4336c7": {
      "model_module": "@jupyter-widgets/controls",
      "model_module_version": "1.5.0",
      "model_name": "ButtonModel",
      "state": {
       "description": "Run Interact",
       "layout": "IPY_MODEL_46c32c1cc360493bb3203f5d0e30ddec",
       "style": "IPY_MODEL_ce4349fc59d249ae84bc5970e86d53d1"
      }
     },
     "9a4983f09a754287a60048dde626a1e3": {
      "model_module": "@jupyter-widgets/controls",
      "model_module_version": "1.5.0",
      "model_name": "IntProgressModel",
      "state": {
       "bar_style": "success",
       "description": "100%",
       "layout": "IPY_MODEL_9b31cc492e5e46b3af3f25b8d9a6ccb5",
       "max": 891,
       "style": "IPY_MODEL_dbe189fb52194ae59bd02d3a174a1b1a",
       "value": 891
      }
     },
     "9a6ccdc641114bd08843498f68e0b08b": {
      "model_module": "@jupyter-widgets/controls",
      "model_module_version": "1.5.0",
      "model_name": "DescriptionStyleModel",
      "state": {
       "description_width": ""
      }
     },
     "9b1ac1542ab24a74bf95bb16fb73db7f": {
      "model_module": "@jupyter-widgets/controls",
      "model_module_version": "1.5.0",
      "model_name": "VBoxModel",
      "state": {
       "_dom_classes": [
        "widget-interact"
       ],
       "children": [
        "IPY_MODEL_138edea4e8cb4a7685335ca88a3bfc0c",
        "IPY_MODEL_256ee0f4d3fa44c48e9e728e34b3aa26",
        "IPY_MODEL_44381050598543e78abfb3f2f2382775"
       ],
       "layout": "IPY_MODEL_979d9823c50c4b788e136ca78e881fae"
      }
     },
     "9b31cc492e5e46b3af3f25b8d9a6ccb5": {
      "model_module": "@jupyter-widgets/base",
      "model_module_version": "1.2.0",
      "model_name": "LayoutModel",
      "state": {}
     },
     "9cf39608d42d469c9af3d104942e8eec": {
      "model_module": "@jupyter-widgets/controls",
      "model_module_version": "1.5.0",
      "model_name": "CheckboxModel",
      "state": {
       "description": "lines",
       "disabled": false,
       "layout": "IPY_MODEL_edafe05b29d045e893e045492f0114d7",
       "style": "IPY_MODEL_8a030cc887724e68b86e90017b44fd62",
       "value": false
      }
     },
     "9e1681e1a6f044c4801ff2203eedcf3e": {
      "model_module": "@jupyter-widgets/base",
      "model_module_version": "1.2.0",
      "model_name": "LayoutModel",
      "state": {}
     },
     "a193b116788f49829f85549fe97a45a1": {
      "model_module": "@jupyter-widgets/base",
      "model_module_version": "1.2.0",
      "model_name": "LayoutModel",
      "state": {}
     },
     "a3dd7ffd5ed842618496550f722a12aa": {
      "model_module": "@jupyter-widgets/controls",
      "model_module_version": "1.5.0",
      "model_name": "IntProgressModel",
      "state": {
       "bar_style": "success",
       "description": "100%",
       "layout": "IPY_MODEL_b466496aba6347a7b7e73ae972d32a08",
       "max": 891,
       "style": "IPY_MODEL_96cb64e744ba43ec9820bb28badd11fd",
       "value": 891
      }
     },
     "a4c7b4fd929045fdad3318f0ab70b7a0": {
      "model_module": "@jupyter-widgets/base",
      "model_module_version": "1.2.0",
      "model_name": "LayoutModel",
      "state": {}
     },
     "a596374198384ce5a2ca3b2a5cb38a03": {
      "model_module": "@jupyter-widgets/controls",
      "model_module_version": "1.5.0",
      "model_name": "DescriptionStyleModel",
      "state": {
       "description_width": ""
      }
     },
     "a80de2f529224f02840f981aab0e2eae": {
      "model_module": "@jupyter-widgets/controls",
      "model_module_version": "1.5.0",
      "model_name": "VBoxModel",
      "state": {
       "_dom_classes": [
        "widget-interact"
       ],
       "children": [
        "IPY_MODEL_7750bbaa2b804c13aecc400057fa73d0",
        "IPY_MODEL_70d8fa0ad1a04f529cbd01f85cca59f6",
        "IPY_MODEL_8c4fc80e2b3542be9316a67f90077c50",
        "IPY_MODEL_6ef792a672754a55a3a0a790ffb8db3a"
       ],
       "layout": "IPY_MODEL_5cc2717183c84c6b913879809ccefcb4"
      }
     },
     "acdac640f14645c8b78b0bf336b96d89": {
      "model_module": "@jupyter-widgets/base",
      "model_module_version": "1.2.0",
      "model_name": "LayoutModel",
      "state": {}
     },
     "ad8683a845f14d1ea37303d17f8587ed": {
      "model_module": "@jupyter-widgets/base",
      "model_module_version": "1.2.0",
      "model_name": "LayoutModel",
      "state": {}
     },
     "afd55a1e7ef144a9b1edc99d55b1879d": {
      "model_module": "@jupyter-widgets/controls",
      "model_module_version": "1.5.0",
      "model_name": "DescriptionStyleModel",
      "state": {
       "description_width": ""
      }
     },
     "b1241362596f4270b27284d8caebb16b": {
      "model_module": "@jupyter-widgets/controls",
      "model_module_version": "1.5.0",
      "model_name": "ButtonModel",
      "state": {
       "description": "Run Interact",
       "layout": "IPY_MODEL_cfbeb9a4cf674921a5255b14c9178153",
       "style": "IPY_MODEL_c6a26bfa668d403f898a926bb4eebde9"
      }
     },
     "b466496aba6347a7b7e73ae972d32a08": {
      "model_module": "@jupyter-widgets/base",
      "model_module_version": "1.2.0",
      "model_name": "LayoutModel",
      "state": {}
     },
     "b5b623a33cee4285963d632f4970db6a": {
      "model_module": "@jupyter-widgets/base",
      "model_module_version": "1.2.0",
      "model_name": "LayoutModel",
      "state": {}
     },
     "b62a86d5cba447d7b29e0e97f7b67d20": {
      "model_module": "@jupyter-widgets/base",
      "model_module_version": "1.2.0",
      "model_name": "LayoutModel",
      "state": {}
     },
     "b646d3f538434ea5b80460f06e6bfb14": {
      "model_module": "@jupyter-widgets/controls",
      "model_module_version": "1.5.0",
      "model_name": "ButtonStyleModel",
      "state": {}
     },
     "b69df609d53f43bcaf0832b5d6120ff7": {
      "model_module": "@jupyter-widgets/output",
      "model_module_version": "1.0.0",
      "model_name": "OutputModel",
      "state": {
       "layout": "IPY_MODEL_f4bb4e4211f0421584b6ac1fc9bec643"
      }
     },
     "ba0ced59340b42efbed92afd7a591b8a": {
      "model_module": "@jupyter-widgets/base",
      "model_module_version": "1.2.0",
      "model_name": "LayoutModel",
      "state": {}
     },
     "bb488208881f47f88b7019767af696a3": {
      "model_module": "@jupyter-widgets/controls",
      "model_module_version": "1.5.0",
      "model_name": "DescriptionStyleModel",
      "state": {
       "description_width": ""
      }
     },
     "bb927ba8f9854783a068ed14557cab23": {
      "model_module": "@jupyter-widgets/controls",
      "model_module_version": "1.5.0",
      "model_name": "DescriptionStyleModel",
      "state": {
       "description_width": ""
      }
     },
     "c0b67f4b8f1d4e4380af035fe359cf61": {
      "model_module": "@jupyter-widgets/base",
      "model_module_version": "1.2.0",
      "model_name": "LayoutModel",
      "state": {}
     },
     "c0d0d90567e34c34bfb4d212d1835a49": {
      "model_module": "@jupyter-widgets/output",
      "model_module_version": "1.0.0",
      "model_name": "OutputModel",
      "state": {
       "layout": "IPY_MODEL_94cf836ea78648d687a1ef12f48bff9c",
       "outputs": [
        {
         "name": "stdout",
         "output_type": "stream",
         "text": ""
        }
       ]
      }
     },
     "c24d4ad5b4c7435eaa9dae4fd00a84bf": {
      "model_module": "@jupyter-widgets/base",
      "model_module_version": "1.2.0",
      "model_name": "LayoutModel",
      "state": {}
     },
     "c432fa543b4543e691c61a1742a15073": {
      "model_module": "@jupyter-widgets/base",
      "model_module_version": "1.2.0",
      "model_name": "LayoutModel",
      "state": {}
     },
     "c465fdb150b34ccfb1bac6bf779045f5": {
      "model_module": "@jupyter-widgets/controls",
      "model_module_version": "1.5.0",
      "model_name": "ButtonStyleModel",
      "state": {}
     },
     "c48bc892d2154d3db40efb413b29c480": {
      "model_module": "@jupyter-widgets/base",
      "model_module_version": "1.2.0",
      "model_name": "LayoutModel",
      "state": {}
     },
     "c6a26bfa668d403f898a926bb4eebde9": {
      "model_module": "@jupyter-widgets/controls",
      "model_module_version": "1.5.0",
      "model_name": "ButtonStyleModel",
      "state": {}
     },
     "c9279e20886d4968a1aef6598a375054": {
      "model_module": "@jupyter-widgets/controls",
      "model_module_version": "1.5.0",
      "model_name": "DropdownModel",
      "state": {
       "_options_labels": [
        "Pclass",
        "Sex",
        "Age",
        "SibSp",
        "Parch",
        "Fare",
        "Embarked",
        "Title"
       ],
       "description": "feature",
       "index": 0,
       "layout": "IPY_MODEL_c432fa543b4543e691c61a1742a15073",
       "style": "IPY_MODEL_9a6ccdc641114bd08843498f68e0b08b"
      }
     },
     "cc4f83e992024cac95050105d2ba5173": {
      "model_module": "@jupyter-widgets/controls",
      "model_module_version": "1.5.0",
      "model_name": "ButtonStyleModel",
      "state": {}
     },
     "cdfdb4d5568e44e9bf41d1adcca8d3be": {
      "model_module": "@jupyter-widgets/output",
      "model_module_version": "1.0.0",
      "model_name": "OutputModel",
      "state": {
       "layout": "IPY_MODEL_7e4d564c72d54010bcc6b96cf0d2a254",
       "outputs": [
        {
         "name": "stdout",
         "output_type": "stream",
         "text": ""
        }
       ]
      }
     },
     "ce4349fc59d249ae84bc5970e86d53d1": {
      "model_module": "@jupyter-widgets/controls",
      "model_module_version": "1.5.0",
      "model_name": "ButtonStyleModel",
      "state": {}
     },
     "cfbeb9a4cf674921a5255b14c9178153": {
      "model_module": "@jupyter-widgets/base",
      "model_module_version": "1.2.0",
      "model_name": "LayoutModel",
      "state": {}
     },
     "d58e8284f3394adfa0a880143bbea592": {
      "model_module": "@jupyter-widgets/controls",
      "model_module_version": "1.5.0",
      "model_name": "VBoxModel",
      "state": {
       "_dom_classes": [
        "widget-interact"
       ],
       "children": [
        "IPY_MODEL_e8b2b05a3e1d4947886e07a8c17983be",
        "IPY_MODEL_9281380a4f154c229d95eaf2f218821c",
        "IPY_MODEL_ee100c7c586d4a54bc4e0af8f22e22cd",
        "IPY_MODEL_2a326104fc914592a3296e5ec925fc73"
       ],
       "layout": "IPY_MODEL_c48bc892d2154d3db40efb413b29c480"
      }
     },
     "d82e960c50a54449a5bb1b952d37a8c5": {
      "model_module": "@jupyter-widgets/base",
      "model_module_version": "1.2.0",
      "model_name": "LayoutModel",
      "state": {}
     },
     "d8bb0d51d5004e7a955739420db3864c": {
      "model_module": "@jupyter-widgets/base",
      "model_module_version": "1.2.0",
      "model_name": "LayoutModel",
      "state": {}
     },
     "d8ce4a468c7d4875b2264b2f6b971989": {
      "model_module": "@jupyter-widgets/controls",
      "model_module_version": "1.5.0",
      "model_name": "ButtonStyleModel",
      "state": {}
     },
     "d9d408fc220248799f487433a38e8c0a": {
      "model_module": "@jupyter-widgets/controls",
      "model_module_version": "1.5.0",
      "model_name": "HTMLModel",
      "state": {
       "layout": "IPY_MODEL_999d432c42ea461aaa929fe56bb468e2",
       "style": "IPY_MODEL_82fe3950251c478cb6d29d3a18d75ab4",
       "value": " 891/891 [00:52&lt;00:00, 17.11it/s]"
      }
     },
     "dbe189fb52194ae59bd02d3a174a1b1a": {
      "model_module": "@jupyter-widgets/controls",
      "model_module_version": "1.5.0",
      "model_name": "ProgressStyleModel",
      "state": {
       "description_width": "initial"
      }
     },
     "dde7a86f7af5447096f402a1ab7a1320": {
      "model_module": "@jupyter-widgets/base",
      "model_module_version": "1.2.0",
      "model_name": "LayoutModel",
      "state": {}
     },
     "dfefd3047eef412c8529e86af9b0e57a": {
      "model_module": "@jupyter-widgets/controls",
      "model_module_version": "1.5.0",
      "model_name": "DescriptionStyleModel",
      "state": {
       "description_width": ""
      }
     },
     "e03a6099f78242998fe47c6c0603e0e9": {
      "model_module": "@jupyter-widgets/base",
      "model_module_version": "1.2.0",
      "model_name": "LayoutModel",
      "state": {}
     },
     "e183125a5c934e998371fe481328dd4c": {
      "model_module": "@jupyter-widgets/base",
      "model_module_version": "1.2.0",
      "model_name": "LayoutModel",
      "state": {}
     },
     "e196ee896aa24853b15ce15fefa3b3e2": {
      "model_module": "@jupyter-widgets/base",
      "model_module_version": "1.2.0",
      "model_name": "LayoutModel",
      "state": {}
     },
     "e2ecc57963974a3d908f3728f1f335a8": {
      "model_module": "@jupyter-widgets/base",
      "model_module_version": "1.2.0",
      "model_name": "LayoutModel",
      "state": {}
     },
     "e4a8778facf8403bb13a133cc191b4e5": {
      "model_module": "@jupyter-widgets/controls",
      "model_module_version": "1.5.0",
      "model_name": "BoundedIntTextModel",
      "state": {
       "description": "Instance id:",
       "layout": "IPY_MODEL_93368cede3c74dce8ec645a8479dec94",
       "max": 890,
       "style": "IPY_MODEL_9735997456c34e68bf9279e11bd6109a"
      }
     },
     "e544beb9af0948d796255cf257db2ba8": {
      "model_module": "@jupyter-widgets/base",
      "model_module_version": "1.2.0",
      "model_name": "LayoutModel",
      "state": {}
     },
     "e58a9ad80afe46138edbaac13dacdec9": {
      "model_module": "@jupyter-widgets/output",
      "model_module_version": "1.0.0",
      "model_name": "OutputModel",
      "state": {
       "layout": "IPY_MODEL_0e21c970a1444f05a2f9e75e302210af",
       "outputs": [
        {
         "name": "stdout",
         "output_type": "stream",
         "text": ""
        }
       ]
      }
     },
     "e67dbcfff86b4efc99480048ef3538c7": {
      "model_module": "@jupyter-widgets/base",
      "model_module_version": "1.2.0",
      "model_name": "LayoutModel",
      "state": {}
     },
     "e8b2b05a3e1d4947886e07a8c17983be": {
      "model_module": "@jupyter-widgets/controls",
      "model_module_version": "1.5.0",
      "model_name": "DropdownModel",
      "state": {
       "_options_labels": [
        "Pclass",
        "Sex",
        "Age",
        "SibSp",
        "Parch",
        "Fare",
        "Embarked",
        "Title"
       ],
       "description": "feature",
       "index": 0,
       "layout": "IPY_MODEL_e90a96b217244b1398178edb6720af08",
       "style": "IPY_MODEL_777e6582ab8a4960b4eb4e87a5d10a1d"
      }
     },
     "e90a96b217244b1398178edb6720af08": {
      "model_module": "@jupyter-widgets/base",
      "model_module_version": "1.2.0",
      "model_name": "LayoutModel",
      "state": {}
     },
     "ea030caabe394dc4b7945c9120b7f8c2": {
      "model_module": "@jupyter-widgets/base",
      "model_module_version": "1.2.0",
      "model_name": "LayoutModel",
      "state": {}
     },
     "ea48db3bfec049ec865c89c6c7afb290": {
      "model_module": "@jupyter-widgets/controls",
      "model_module_version": "1.5.0",
      "model_name": "VBoxModel",
      "state": {
       "_dom_classes": [
        "widget-interact"
       ],
       "children": [
        "IPY_MODEL_132199287ddf4f8db075fcdbb45e0424",
        "IPY_MODEL_550b34464ccf4c64a13f642238d093b5",
        "IPY_MODEL_f75f47763e214a2c9465c538c2cc5103",
        "IPY_MODEL_203b84b27de9406380af25ba8ca70dee"
       ],
       "layout": "IPY_MODEL_4e7fcf696aec4738ab54a6e4ad5f427e"
      }
     },
     "eb6418f83e0847a8bd79c6fd658b4ae9": {
      "model_module": "@jupyter-widgets/base",
      "model_module_version": "1.2.0",
      "model_name": "LayoutModel",
      "state": {}
     },
     "ebac5bcca79e45108b677eb8b947054f": {
      "model_module": "@jupyter-widgets/controls",
      "model_module_version": "1.5.0",
      "model_name": "DropdownModel",
      "state": {
       "_options_labels": [
        "Pclass",
        "Sex",
        "Age",
        "SibSp",
        "Parch",
        "Fare",
        "Embarked",
        "Title"
       ],
       "description": "feature",
       "index": 0,
       "layout": "IPY_MODEL_8d614bd35589463290306a2961965fb7",
       "style": "IPY_MODEL_dfefd3047eef412c8529e86af9b0e57a"
      }
     },
     "edafe05b29d045e893e045492f0114d7": {
      "model_module": "@jupyter-widgets/base",
      "model_module_version": "1.2.0",
      "model_name": "LayoutModel",
      "state": {}
     },
     "ee100c7c586d4a54bc4e0af8f22e22cd": {
      "model_module": "@jupyter-widgets/controls",
      "model_module_version": "1.5.0",
      "model_name": "ButtonModel",
      "state": {
       "description": "Run Interact",
       "layout": "IPY_MODEL_34e82574e52f4bc69164739826984e6c",
       "style": "IPY_MODEL_c465fdb150b34ccfb1bac6bf779045f5"
      }
     },
     "f1264aee8cb643c29a530dfc2d17d422": {
      "model_module": "@jupyter-widgets/controls",
      "model_module_version": "1.5.0",
      "model_name": "VBoxModel",
      "state": {
       "_dom_classes": [
        "widget-interact"
       ],
       "children": [
        "IPY_MODEL_ebac5bcca79e45108b677eb8b947054f",
        "IPY_MODEL_2cc031af95764aa3ab2e971a8ae73f99",
        "IPY_MODEL_02f385735b87481cb3203c5d0eadde0a",
        "IPY_MODEL_09adf83920a648488af4726f547e3fdd"
       ],
       "layout": "IPY_MODEL_3e4d8902ebf8489e9272fb5f78076180"
      }
     },
     "f1387ee494784a8389885fe42c7b449d": {
      "model_module": "@jupyter-widgets/base",
      "model_module_version": "1.2.0",
      "model_name": "LayoutModel",
      "state": {}
     },
     "f1c68f1c1eb9485981dd3d469e3a89ea": {
      "model_module": "@jupyter-widgets/controls",
      "model_module_version": "1.5.0",
      "model_name": "ButtonModel",
      "state": {
       "description": "Run Interact",
       "layout": "IPY_MODEL_3f0360c0e4fb46e284f9b6f3aaf167ab",
       "style": "IPY_MODEL_cc4f83e992024cac95050105d2ba5173"
      }
     },
     "f239a182ecbc4bd78fc4646eb418b376": {
      "model_module": "@jupyter-widgets/controls",
      "model_module_version": "1.5.0",
      "model_name": "ButtonStyleModel",
      "state": {}
     },
     "f4bb4e4211f0421584b6ac1fc9bec643": {
      "model_module": "@jupyter-widgets/base",
      "model_module_version": "1.2.0",
      "model_name": "LayoutModel",
      "state": {}
     },
     "f5de088134c14578a81157ece92ef930": {
      "model_module": "@jupyter-widgets/controls",
      "model_module_version": "1.5.0",
      "model_name": "ButtonModel",
      "state": {
       "description": "Run Interact",
       "layout": "IPY_MODEL_ba0ced59340b42efbed92afd7a591b8a",
       "style": "IPY_MODEL_d8ce4a468c7d4875b2264b2f6b971989"
      }
     },
     "f5e17d006294464a82493f782c2bcddf": {
      "model_module": "@jupyter-widgets/base",
      "model_module_version": "1.2.0",
      "model_name": "LayoutModel",
      "state": {}
     },
     "f67796d805c646d387ccc42fab7719cd": {
      "model_module": "@jupyter-widgets/controls",
      "model_module_version": "1.5.0",
      "model_name": "DescriptionStyleModel",
      "state": {
       "description_width": ""
      }
     },
     "f75f47763e214a2c9465c538c2cc5103": {
      "model_module": "@jupyter-widgets/controls",
      "model_module_version": "1.5.0",
      "model_name": "ButtonModel",
      "state": {
       "description": "Run Interact",
       "layout": "IPY_MODEL_e544beb9af0948d796255cf257db2ba8",
       "style": "IPY_MODEL_385e10fd7ffc406c968d727a7d337f9f"
      }
     },
     "f7be60a5e02d4842b0d0e8f820995ec2": {
      "model_module": "@jupyter-widgets/controls",
      "model_module_version": "1.5.0",
      "model_name": "SliderStyleModel",
      "state": {
       "description_width": ""
      }
     },
     "fd3c3d96078b4023825a786b6d2085f4": {
      "model_module": "@jupyter-widgets/controls",
      "model_module_version": "1.5.0",
      "model_name": "ButtonModel",
      "state": {
       "description": "Run Interact",
       "layout": "IPY_MODEL_c0b67f4b8f1d4e4380af035fe359cf61",
       "style": "IPY_MODEL_93e21b1575b64311bc173434a456e484"
      }
     }
    },
    "version_major": 2,
    "version_minor": 0
   }
  }
 },
 "nbformat": 4,
 "nbformat_minor": 2
}
